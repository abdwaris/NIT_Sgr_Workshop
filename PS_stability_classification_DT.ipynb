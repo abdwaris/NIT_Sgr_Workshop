{
 "cells": [
  {
   "cell_type": "markdown",
   "id": "35533211-bed3-49eb-914a-2dce6e2f431a",
   "metadata": {},
   "source": [
    "# Setup: Install Required Packages (For First-Time Users)"
   ]
  },
  {
   "cell_type": "code",
   "execution_count": null,
   "id": "e2b07463-5810-4dd6-8969-900813048447",
   "metadata": {},
   "outputs": [],
   "source": [
    "#!pip install pandas numpy matplotlib seaborn scikit-learn shap openpyxl\n"
   ]
  },
  {
   "cell_type": "markdown",
   "id": "ab76bc77-36d7-4c0b-a18a-ff965255ad86",
   "metadata": {},
   "source": [
    "# Step-by-Step Code: Pseudostatic Slope Stability Classification"
   ]
  },
  {
   "cell_type": "code",
   "execution_count": 23,
   "id": "84ab56e2-e7e9-4ba9-b87d-5a7542ce2b77",
   "metadata": {},
   "outputs": [],
   "source": [
    "# -------------------------------\n",
    "# IMPORT REQUIRED LIBRARIES\n",
    "# -------------------------------\n",
    "import pandas as pd\n",
    "import numpy as np\n",
    "import matplotlib.pyplot as plt\n",
    "import seaborn as sns\n",
    "import shap\n",
    "\n",
    "from sklearn.model_selection import train_test_split, KFold, GridSearchCV\n",
    "# from sklearn.ensemble import RandomForestClassifier\n",
    "from sklearn.tree import DecisionTreeClassifier\n",
    "from sklearn.preprocessing import StandardScaler\n",
    "from sklearn.metrics import classification_report, confusion_matrix, ConfusionMatrixDisplay\n",
    "\n",
    "import warnings\n",
    "warnings.filterwarnings(\"ignore\")\n",
    "sns.set(style=\"whitegrid\")\n"
   ]
  },
  {
   "cell_type": "markdown",
   "id": "76724fbc-c2fa-450e-b065-b34b59ac01d2",
   "metadata": {},
   "source": [
    "# Load & Preprocess Dataset"
   ]
  },
  {
   "cell_type": "code",
   "execution_count": 26,
   "id": "91721f97-224d-4cfd-9d4f-e363fd69f460",
   "metadata": {},
   "outputs": [
    {
     "name": "stdout",
     "output_type": "stream",
     "text": [
      "Original columns: ['itr', 'Slope Angle', 'CbygammaH', 'phi', 'kh', 'kvr', 'fmp', 'Xmp', 'Ymp', 'Rmp', 'Unnamed: 10', 'Unnamed: 11', 'Unnamed: 12']\n"
     ]
    },
    {
     "data": {
      "text/html": [
       "<div>\n",
       "<style scoped>\n",
       "    .dataframe tbody tr th:only-of-type {\n",
       "        vertical-align: middle;\n",
       "    }\n",
       "\n",
       "    .dataframe tbody tr th {\n",
       "        vertical-align: top;\n",
       "    }\n",
       "\n",
       "    .dataframe thead th {\n",
       "        text-align: right;\n",
       "    }\n",
       "</style>\n",
       "<table border=\"1\" class=\"dataframe\">\n",
       "  <thead>\n",
       "    <tr style=\"text-align: right;\">\n",
       "      <th></th>\n",
       "      <th>Slope_Angle</th>\n",
       "      <th>CbygammaH</th>\n",
       "      <th>phi</th>\n",
       "      <th>kh</th>\n",
       "      <th>kvr</th>\n",
       "      <th>Label</th>\n",
       "    </tr>\n",
       "  </thead>\n",
       "  <tbody>\n",
       "    <tr>\n",
       "      <th>0</th>\n",
       "      <td>15</td>\n",
       "      <td>0.0</td>\n",
       "      <td>10</td>\n",
       "      <td>0.00</td>\n",
       "      <td>-0.5</td>\n",
       "      <td>0</td>\n",
       "    </tr>\n",
       "    <tr>\n",
       "      <th>1</th>\n",
       "      <td>15</td>\n",
       "      <td>0.0</td>\n",
       "      <td>10</td>\n",
       "      <td>0.05</td>\n",
       "      <td>-0.5</td>\n",
       "      <td>0</td>\n",
       "    </tr>\n",
       "    <tr>\n",
       "      <th>2</th>\n",
       "      <td>15</td>\n",
       "      <td>0.0</td>\n",
       "      <td>10</td>\n",
       "      <td>0.10</td>\n",
       "      <td>-0.5</td>\n",
       "      <td>0</td>\n",
       "    </tr>\n",
       "    <tr>\n",
       "      <th>3</th>\n",
       "      <td>15</td>\n",
       "      <td>0.0</td>\n",
       "      <td>10</td>\n",
       "      <td>0.15</td>\n",
       "      <td>-0.5</td>\n",
       "      <td>0</td>\n",
       "    </tr>\n",
       "    <tr>\n",
       "      <th>4</th>\n",
       "      <td>15</td>\n",
       "      <td>0.0</td>\n",
       "      <td>10</td>\n",
       "      <td>0.20</td>\n",
       "      <td>-0.5</td>\n",
       "      <td>0</td>\n",
       "    </tr>\n",
       "  </tbody>\n",
       "</table>\n",
       "</div>"
      ],
      "text/plain": [
       "   Slope_Angle  CbygammaH  phi    kh  kvr  Label\n",
       "0           15        0.0   10  0.00 -0.5      0\n",
       "1           15        0.0   10  0.05 -0.5      0\n",
       "2           15        0.0   10  0.10 -0.5      0\n",
       "3           15        0.0   10  0.15 -0.5      0\n",
       "4           15        0.0   10  0.20 -0.5      0"
      ]
     },
     "execution_count": 26,
     "metadata": {},
     "output_type": "execute_result"
    }
   ],
   "source": [
    "# Load dataset\n",
    "file_path = \"Collected Data_PS_GitHub upload.xlsx\"\n",
    "df = pd.read_excel(file_path, sheet_name=0)\n",
    "\n",
    "# Preview columns\n",
    "print(\"Original columns:\", df.columns.tolist())\n",
    "df = df.iloc[:, 1:7]  # assuming data starts from column B as earlier\n",
    "df.columns = ['Slope_Angle', 'CbygammaH', 'phi', 'kh', 'kvr', 'FOS']\n",
    "\n",
    "# Create binary classification target: FOS >= 1 => 1 (Safe), else 0 (Unsafe)\n",
    "df['Label'] = (df['FOS'] >= 1.0).astype(int)\n",
    "\n",
    "# Drop the original FOS (since we now work with binary class)\n",
    "df = df.drop(columns=['FOS'])\n",
    "\n",
    "df.head()\n"
   ]
  },
  {
   "cell_type": "markdown",
   "id": "d7436f4e-7c79-4f8c-8e1d-07423b34ca79",
   "metadata": {},
   "source": [
    "# Explore Class Distribution"
   ]
  },
  {
   "cell_type": "code",
   "execution_count": 29,
   "id": "e4640788-443a-45ab-b4d5-5209da1b4ca6",
   "metadata": {},
   "outputs": [
    {
     "data": {
      "image/png": "[encoded data removed]",
      "text/plain": [
       "<Figure size 640x480 with 1 Axes>"
      ]
     },
     "metadata": {},
     "output_type": "display_data"
    }
   ],
   "source": [
    "# Count of Safe vs Unsafe slopes\n",
    "sns.countplot(data=df, x='Label')\n",
    "plt.xticks([0, 1], ['Unsafe (0)', 'Safe (1)'])\n",
    "plt.title(\"Class Distribution\")\n",
    "plt.show()\n"
   ]
  },
  {
   "cell_type": "code",
   "execution_count": 31,
   "id": "ac2f8d1f-f586-41e5-8756-8024ec59ada4",
   "metadata": {},
   "outputs": [],
   "source": [
    "#Visualize data (optional - self)\n",
    "# sns.pairplot(df, hue=\"Label\", corner=True)\n",
    "# plt.suptitle(\"Geotechnical Slope Stability Data\", y=1.02)\n",
    "# plt.show()"
   ]
  },
  {
   "cell_type": "markdown",
   "id": "8674adcc-50af-4e4c-91ef-042ba57e504a",
   "metadata": {},
   "source": [
    "# Train-Test Split & Feature Scaling"
   ]
  },
  {
   "cell_type": "code",
   "execution_count": 34,
   "id": "2a5f01d5-aa67-47e9-9b9a-f4ad27cf6f6c",
   "metadata": {},
   "outputs": [],
   "source": [
    "X = df.drop('Label', axis=1)\n",
    "y = df['Label']\n",
    "\n",
    "# Standardize input features\n",
    "scaler = StandardScaler()\n",
    "X_scaled = scaler.fit_transform(X)\n",
    "\n",
    "# Split into training and testing sets\n",
    "X_train, X_test, y_train, y_test = train_test_split(X_scaled, y, test_size=0.2, random_state=42)\n"
   ]
  },
  {
   "cell_type": "markdown",
   "id": "5bb895a0-b15f-47c0-a455-d4bcf2d9bffd",
   "metadata": {},
   "source": [
    "# Model Training + Grid Search with Cross-Validation"
   ]
  },
  {
   "cell_type": "code",
   "execution_count": 37,
   "id": "04b84d71-a448-4876-84dd-d57feb96a73c",
   "metadata": {},
   "outputs": [
    {
     "name": "stdout",
     "output_type": "stream",
     "text": [
      "Fitting 5 folds for each of 6 candidates, totalling 30 fits\n",
      "Best Parameters: {'max_depth': None, 'min_samples_split': 2}\n"
     ]
    }
   ],
   "source": [
    "# Set up the classifier and hyperparameter grid for decision tree\n",
    "clf = DecisionTreeClassifier(random_state=42)\n",
    "\n",
    "param_grid = {\n",
    "    'max_depth': [None, 10, 20],\n",
    "    'min_samples_split': [2, 5]\n",
    "}\n",
    "\n",
    "grid_search = GridSearchCV(clf, param_grid, cv=5, scoring='accuracy', verbose=1)\n",
    "grid_search.fit(X_train, y_train)\n",
    "\n",
    "# Best model\n",
    "best_model = grid_search.best_estimator_\n",
    "print(\"Best Parameters:\", grid_search.best_params_)"
   ]
  },
  {
   "cell_type": "markdown",
   "id": "da59abe0-6d09-4341-9ec6-ec38e2418d69",
   "metadata": {},
   "source": [
    "# Model Evaluation"
   ]
  },
  {
   "cell_type": "code",
   "execution_count": 39,
   "id": "c14095a1-c584-48f4-944d-27d4de016cdc",
   "metadata": {},
   "outputs": [
    {
     "name": "stdout",
     "output_type": "stream",
     "text": [
      "Classification Report:\n",
      "              precision    recall  f1-score   support\n",
      "\n",
      "      Unsafe       0.99      0.97      0.98      1052\n",
      "        Safe       0.99      1.00      0.99      2774\n",
      "\n",
      "    accuracy                           0.99      3826\n",
      "   macro avg       0.99      0.98      0.99      3826\n",
      "weighted avg       0.99      0.99      0.99      3826\n",
      "\n"
     ]
    },
    {
     "data": {
      "image/png": "[encoded data removed]",
      "text/plain": [
       "<Figure size 640x480 with 2 Axes>"
      ]
     },
     "metadata": {},
     "output_type": "display_data"
    }
   ],
   "source": [
    "# Predictions\n",
    "y_pred = best_model.predict(X_test)\n",
    "\n",
    "# Classification metrics\n",
    "print(\"Classification Report:\")\n",
    "print(classification_report(y_test, y_pred, target_names=[\"Unsafe\", \"Safe\"]))\n",
    "\n",
    "# Confusion Matrix\n",
    "ConfusionMatrixDisplay.from_estimator(best_model, X_test, y_test, display_labels=[\"Unsafe\", \"Safe\"])\n",
    "plt.title(\"Confusion Matrix\")\n",
    "plt.show()\n"
   ]
  },
  {
   "cell_type": "markdown",
   "id": "516d7b54-3be0-480d-8bc7-1d59f351c87c",
   "metadata": {},
   "source": [
    "# Key Differences between regression and classification"
   ]
  },
  {
   "cell_type": "code",
   "execution_count": 44,
   "id": "0261ed6c-9783-42cd-b523-eb314ca88e8c",
   "metadata": {},
   "outputs": [
    {
     "name": "stdout",
     "output_type": "stream",
     "text": [
      "🔍 Key Differences Between Regression and Classification Pipelines:\n",
      "\n",
      "Aspect               Regression                     Classification                \n",
      "-------------------------------------------------------------------------------------\n",
      "Target Variable      Continuous (e.g., FOS)         Categorical (Safe/Unsafe)     \n",
      "Model Objective      Minimize error                 Maximize accuracy/F1          \n",
      "Eval Metrics         R², MAE, RMSE                  Accuracy, Recall, F1          \n",
      "Output               Float value                    Class label (0/1)             \n",
      "Confusion Matrix     Not used                       Essential                     \n"
     ]
    }
   ],
   "source": [
    "\n",
    "print(\"🔍 Key Differences Between Regression and Classification Pipelines:\\n\")\n",
    "print(\"{:<20} {:<30} {:<30}\".format(\"Aspect\", \"Regression\", \"Classification\"))\n",
    "print(\"-\" * 85)\n",
    "print(\"{:<20} {:<30} {:<30}\".format(\"Target Variable\", \"Continuous (e.g., FOS)\", \"Categorical (Safe/Unsafe)\"))\n",
    "print(\"{:<20} {:<30} {:<30}\".format(\"Model Objective\", \"Minimize error\", \"Maximize accuracy/F1\"))\n",
    "print(\"{:<20} {:<30} {:<30}\".format(\"Eval Metrics\", \"R², MAE, RMSE\", \"Accuracy, Recall, F1\"))\n",
    "print(\"{:<20} {:<30} {:<30}\".format(\"Output\", \"Float value\", \"Class label (0/1)\"))\n",
    "print(\"{:<20} {:<30} {:<30}\".format(\"Confusion Matrix\", \"Not used\", \"Essential\"))"
   ]
  },
  {
   "cell_type": "markdown",
   "id": "91fe1e5d-6e78-4acf-99ce-d507f621fe44",
   "metadata": {},
   "source": [
    "# Hope this notebook has been helpful!\n",
    " \n",
    "Created by: Abdul Waris, PMRF, IIT Hyderabad\n",
    "\n",
    "For PG students and PhD Scholars at NIT Srinagar (Five Day Workshop on Introduction to FEM and ML in Geotechnical Engineering)"
   ]
  },
  {
   "cell_type": "code",
   "execution_count": null,
   "id": "bdeb52df-94eb-4373-aad8-2be9803b780a",
   "metadata": {},
   "outputs": [],
   "source": []
  }
 ],
 "metadata": {
  "kernelspec": {
   "display_name": "Python [conda env:base] *",
   "language": "python",
   "name": "conda-base-py"
  },
  "language_info": {
   "codemirror_mode": {
    "name": "ipython",
    "version": 3
   },
   "file_extension": ".py",
   "mimetype": "text/x-python",
   "name": "python",
   "nbconvert_exporter": "python",
   "pygments_lexer": "ipython3",
   "version": "3.12.7"
  }
 },
 "nbformat": 4,
 "nbformat_minor": 5
}
