{
 "cells": [
  {
   "cell_type": "markdown",
   "id": "dffb41ed-f730-4c87-804c-186257072691",
   "metadata": {},
   "source": [
    "# 📘 Title: Introduction to Python Programming in Jupyter Notebook\n",
    "\n",
    "Created by: Abdul Waris, *PMRF, IIT Hyderabad*\n",
    "\n",
    "For PG students and PhD Scholars at NIT Srinagar **(Five Day Workshop on Introduction to FEM and ML in Geotechnical Engineering)**"
   ]
  },
  {
   "cell_type": "markdown",
   "id": "1546eb67-33f5-43fa-b941-262c4629f562",
   "metadata": {},
   "source": [
    "# 🔹 1. Markdown vs Code Cells\n",
    "Markdown Cell (non-executable):"
   ]
  },
  {
   "cell_type": "markdown",
   "id": "884d4367-0ae8-43d8-a36c-f5803bd1450e",
   "metadata": {},
   "source": [
    "# Welcome to Your First Python Notebook!\n",
    "This is a **Markdown cell**, where you write formatted text, instructions, or explanations.\n",
    "\n",
    "✅ Use `#` for headings  \n",
    "✅ Use `**bold**` for bold  \n",
    "✅ Use `*italic*` for italic  \n",
    "✅ Press `Shift + Enter` to run the cell"
   ]
  },
  {
   "cell_type": "markdown",
   "id": "0b346777-a1d8-4b5d-894c-6332efb0d903",
   "metadata": {},
   "source": [
    "Code Cell (executable):"
   ]
  },
  {
   "cell_type": "code",
   "execution_count": 3,
   "id": "f73640c8-3b94-4745-9af7-e4b5dd2967cb",
   "metadata": {},
   "outputs": [
    {
     "name": "stdout",
     "output_type": "stream",
     "text": [
      "Hello, Python in Jupyter!\n"
     ]
    }
   ],
   "source": [
    "# This is a code cell\n",
    "print(\"Hello, Python in Jupyter!\")\n"
   ]
  },
  {
   "cell_type": "markdown",
   "id": "3c7aad11-147c-4720-bcf0-fe2bf724945b",
   "metadata": {},
   "source": [
    "# 🔹 2. Python as a Calculator"
   ]
  },
  {
   "cell_type": "code",
   "execution_count": 7,
   "id": "1f59ea64-a9f1-4edf-b762-bb3311c0e87d",
   "metadata": {},
   "outputs": [
    {
     "data": {
      "text/plain": [
       "6"
      ]
     },
     "execution_count": 7,
     "metadata": {},
     "output_type": "execute_result"
    }
   ],
   "source": [
    "# Basic arithmetic operations\n",
    "2 + 3    # Addition\n",
    "10 - 4   # Subtraction\n",
    "# 3 * 7    # Multiplication\n",
    "# 15 / 5   # Division\n",
    "# 2 ** 3   # Exponentiation (2 to the power 3)\n"
   ]
  },
  {
   "cell_type": "markdown",
   "id": "916ad617-935d-4f2f-844a-48304bdbdd49",
   "metadata": {},
   "source": [
    "# 🔹 3. Variables and Data Types"
   ]
  },
  {
   "cell_type": "code",
   "execution_count": 17,
   "id": "ec81d722-948a-4b04-9137-bae4b48225b0",
   "metadata": {},
   "outputs": [
    {
     "name": "stdout",
     "output_type": "stream",
     "text": [
      "x test = 10\n",
      "Name is: Waris\n",
      "The input is not valid.\n"
     ]
    }
   ],
   "source": [
    "# Assigning variables\n",
    "x = 10\n",
    "y = 3.5\n",
    "name = \"Waris\" \n",
    "\n",
    "is_valid = True  #is assigning a Boolean value True to a variable called is_valid.\n",
    "                 #True is a Boolean value — one of two values in Python's bool data type: True or False.\n",
    "\n",
    "\n",
    "print(\"x test =\", x)\n",
    "print(\"Name is:\", name)\n",
    "\n",
    "is_valid = False\n",
    "\n",
    "if is_valid:\n",
    "    print(\"The input is valid.\")\n",
    "else:\n",
    "    print(\"The input is not valid.\")\n",
    "\n"
   ]
  },
  {
   "cell_type": "markdown",
   "id": "3266884c-b252-41ba-8552-9507d631861b",
   "metadata": {},
   "source": [
    "# 🔹 4. Lists and Loops"
   ]
  },
  {
   "cell_type": "code",
   "execution_count": 19,
   "id": "9e5caea3-105b-478c-9710-c2d865022341",
   "metadata": {},
   "outputs": [
    {
     "name": "stdout",
     "output_type": "stream",
     "text": [
      "Square of 1 is 1\n",
      "Square of 2 is 4\n",
      "Square of 3 is 9\n",
      "Square of 4 is 16\n",
      "Square of 5 is 25\n"
     ]
    }
   ],
   "source": [
    "# Create a list\n",
    "numbers = [1, 2, 3, 4, 5]\n",
    "\n",
    "# Loop through the list\n",
    "for num in numbers:\n",
    "    print(\"Square of\", num, \"is\", num ** 2)\n"
   ]
  },
  {
   "cell_type": "markdown",
   "id": "fb93ef41-349f-42c5-8576-781d8878693f",
   "metadata": {},
   "source": [
    "# 🔹 5. Functions"
   ]
  },
  {
   "cell_type": "code",
   "execution_count": 23,
   "id": "4ee85ac8-adba-4b5c-b426-39b7434f32a9",
   "metadata": {},
   "outputs": [
    {
     "data": {
      "text/plain": [
       "'Hello, Mudasir! Welcome to Python.'"
      ]
     },
     "execution_count": 23,
     "metadata": {},
     "output_type": "execute_result"
    }
   ],
   "source": [
    "# Define a simple function\n",
    "def greet(name):\n",
    "    return f\"Hello, {name}! Welcome to Python.\"\n",
    "\n",
    "# Call the function\n",
    "greet(\"Mudasir\")\n"
   ]
  },
  {
   "cell_type": "markdown",
   "id": "9421f41a-2fa8-4c5e-b06a-78bdd563e57e",
   "metadata": {},
   "source": [
    "# 🔹 6. Conditional Statements"
   ]
  },
  {
   "cell_type": "code",
   "execution_count": 27,
   "id": "8285c7d5-1be8-45b8-8edb-d4ab18b78cf8",
   "metadata": {},
   "outputs": [
    {
     "name": "stdout",
     "output_type": "stream",
     "text": [
      "❌ Try again.\n"
     ]
    }
   ],
   "source": [
    "# If-else condition\n",
    "score = 50\n",
    "\n",
    "if score >= 60:\n",
    "    print(\"✅ You passed!\")\n",
    "else:\n",
    "    print(\"❌ Try again.\")\n"
   ]
  },
  {
   "cell_type": "markdown",
   "id": "c1f7ae11-edd6-495b-b101-6e782113bebf",
   "metadata": {},
   "source": [
    "# 🔹 7. Importing Libraries"
   ]
  },
  {
   "cell_type": "code",
   "execution_count": 29,
   "id": "69eb726b-08a6-41d3-88a3-f152d728cefd",
   "metadata": {},
   "outputs": [
    {
     "name": "stdout",
     "output_type": "stream",
     "text": [
      "Square root of 16 is: 4.0\n",
      "Array example: [1 2 3]\n"
     ]
    }
   ],
   "source": [
    "# Import external libraries\n",
    "import math\n",
    "import numpy as np\n",
    "\n",
    "print(\"Square root of 16 is:\", math.sqrt(16))\n",
    "print(\"Array example:\", np.array([1, 2, 3]))\n"
   ]
  },
  {
   "cell_type": "markdown",
   "id": "731fabf7-70dc-4e60-a6f0-6be52de132b3",
   "metadata": {},
   "source": [
    "# Note\n",
    "Some libraries like math come built-in with Python and don't require installation.\n",
    "\n",
    "However, external libraries like NumPy may require installation. \n",
    "To install missing libraries we use !pip install directly inside Jupyter, e.g:\n",
    "\n",
    "!pip install numpy\n"
   ]
  },
  {
   "cell_type": "code",
   "execution_count": null,
   "id": "5cfbdda5-1382-4fd5-b15e-5d10cf3a3232",
   "metadata": {},
   "outputs": [],
   "source": [
    "# !pip install numpy"
   ]
  },
  {
   "cell_type": "markdown",
   "id": "db2c0c69-f072-42bf-b164-0e24e03946b2",
   "metadata": {},
   "source": [
    "💡 If Using Anaconda:\n",
    "If students install Anaconda, most popular libraries (like numpy, pandas, matplotlib, scikit-learn) come pre-installed, which avoids these issues."
   ]
  },
  {
   "cell_type": "markdown",
   "id": "5cb3724e-1df1-4977-8c7f-484da4c22804",
   "metadata": {},
   "source": [
    "# Something about NumPy\n",
    "NumPy (short for Numerical Python) is a powerful Python library used for numerical computing.\n",
    "\n",
    "It provides:\n",
    "\n",
    "Efficient handling of large arrays and matrices\n",
    "\n",
    "A wide range of mathematical functions\n",
    "\n",
    "Can apply mathematical operations to entire arrays at once\n",
    "\n",
    "# 🚀 Typical Things We Use NumPy For:\n",
    "Math functions: np.sin(), np.exp(), np.mean(), np.std()\n",
    "\n",
    "Array creation: np.zeros(), np.ones(), np.arange(), np.linspace()\n",
    "\n",
    "Linear algebra: matrix multiplication, eigenvalues, etc.\n",
    "\n",
    "Random number generation: np.random.rand(), np.random.normal()\n",
    "\n",
    "Scientific computing                                                               "
   ]
  },
  {
   "cell_type": "markdown",
   "id": "98cd682d-2094-4a71-9949-db820010a15e",
   "metadata": {},
   "source": [
    "**“NumPy is like a calculator on steroids. It helps us store and manipulate numbers efficiently — especially when we're dealing with many numbers at once, like in machine learning or scientific data.\"**"
   ]
  },
  {
   "cell_type": "markdown",
   "id": "498004e4-c246-4b92-8fd7-3f18acbdf451",
   "metadata": {},
   "source": [
    "# 🐼 Intro to pandas – Python's Data Handling Powerhouse"
   ]
  },
  {
   "cell_type": "code",
   "execution_count": null,
   "id": "b121a695-4521-479d-a1f7-cef61833da95",
   "metadata": {},
   "outputs": [],
   "source": [
    "## !pip install pandas"
   ]
  },
  {
   "cell_type": "code",
   "execution_count": 31,
   "id": "540e2774-b0f5-415c-a786-0735c634e5e5",
   "metadata": {},
   "outputs": [
    {
     "name": "stdout",
     "output_type": "stream",
     "text": [
      "Here is our DataFrame:\n",
      "      Name  Age         City\n",
      "0    Alice   25     New York\n",
      "1      Bob   30  Los Angeles\n",
      "2  Charlie   22      Chicago\n",
      "3    David   35      Houston\n"
     ]
    }
   ],
   "source": [
    "# Import the pandas library\n",
    "import pandas as pd\n",
    "\n",
    "# Creating a small dataset using a dictionary\n",
    "data = {\n",
    "    'Name': ['Alice', 'Bob', 'Charlie', 'David'],\n",
    "    'Age': [25, 30, 22, 35],\n",
    "    'City': ['New York', 'Los Angeles', 'Chicago', 'Houston']\n",
    "}\n",
    "\n",
    "# Convert the dictionary to a pandas DataFrame\n",
    "df = pd.DataFrame(data)\n",
    "\n",
    "# Display the DataFrame\n",
    "print(\"Here is our DataFrame:\")\n",
    "print(df)\n"
   ]
  },
  {
   "cell_type": "markdown",
   "id": "a2281646-7a57-4418-9898-8ec52237a83f",
   "metadata": {},
   "source": [
    "\n",
    "\n",
    "# **🔍 What is a DataFrame?** \n",
    "\n",
    "*A DataFrame is like an Excel table in Python:*\n",
    "\n",
    "Rows = individual entries\n",
    "\n",
    "Columns = features or variables"
   ]
  },
  {
   "cell_type": "code",
   "execution_count": 43,
   "id": "1fbcd787-c9f0-41fc-a65f-4a4aaaa7fd86",
   "metadata": {},
   "outputs": [
    {
     "name": "stdout",
     "output_type": "stream",
     "text": [
      "\n",
      "First 2 rows:\n",
      "    Name  Age         City  Senior\n",
      "0  Alice   25     New York   False\n",
      "1    Bob   30  Los Angeles   False\n",
      "\n",
      "Summary of numerical columns:\n",
      "             Age\n",
      "count   4.000000\n",
      "mean   28.000000\n",
      "std     5.715476\n",
      "min    22.000000\n",
      "25%    24.250000\n",
      "50%    27.500000\n",
      "75%    31.250000\n",
      "max    35.000000\n",
      "\n",
      "Access the 'Age' column:\n",
      "0    25\n",
      "1    30\n",
      "2    22\n",
      "3    35\n",
      "Name: Age, dtype: int64\n",
      "\n",
      "People older than 25:\n",
      "    Name  Age         City  Senior\n",
      "1    Bob   30  Los Angeles   False\n",
      "3  David   35      Houston    True\n",
      "\n",
      "Added a 'Senior' column based on age > 30:\n",
      "      Name  Age         City  Senior\n",
      "0    Alice   25     New York   False\n",
      "1      Bob   30  Los Angeles   False\n",
      "2  Charlie   22      Chicago   False\n",
      "3    David   35      Houston    True\n"
     ]
    }
   ],
   "source": [
    "# 📋 Basic Operations with pandas\n",
    "\n",
    "# Show the first few rows\n",
    "print(\"\\nFirst 2 rows:\")\n",
    "print(df.head(2))\n",
    "\n",
    "# Describe numerical data\n",
    "print(\"\\nSummary of numerical columns:\")\n",
    "print(df.describe())\n",
    "\n",
    "# Access a specific column\n",
    "print(\"\\nAccess the 'Age' column:\")\n",
    "print(df['Age'])\n",
    "\n",
    "# Filter rows where Age > 25\n",
    "print(\"\\nPeople older than 25:\")\n",
    "print(df[df['Age'] > 25])\n",
    "\n",
    "# Add a new column\n",
    "df['Senior'] = df['Age'] > 30\n",
    "print(\"\\nAdded a 'Senior' column based on age > 30:\")\n",
    "print(df)\n"
   ]
  },
  {
   "cell_type": "markdown",
   "id": "3a384772-5c0f-4a12-bf8f-d7af4ff153b3",
   "metadata": {},
   "source": [
    "# 🔹 8. Plotting with Matplotlib"
   ]
  },
  {
   "cell_type": "code",
   "execution_count": null,
   "id": "81885e67-28a8-43ef-a003-a4bb87326829",
   "metadata": {},
   "outputs": [],
   "source": [
    "## !pip install matplotlib #if required"
   ]
  },
  {
   "cell_type": "code",
   "execution_count": 49,
   "id": "6807ba6c-4a99-4aa3-9b79-4397ade04298",
   "metadata": {},
   "outputs": [
    {
     "data": {
      "image/png": "[encoded data removed]",
      "text/plain": [
       "<Figure size 640x480 with 1 Axes>"
      ]
     },
     "metadata": {},
     "output_type": "display_data"
    }
   ],
   "source": [
    "import matplotlib.pyplot as plt # matplotlib.pyplot is a module in the matplotlib library — Python's most widely used library for \n",
    "                                #creating static, animated, and interactive plots.\n",
    "                                #It provides a MATLAB-like interface for plotting, which is simple and intuitive for quick data visualization.\n",
    "\n",
    "\n",
    "\n",
    "\n",
    "# Example: Plotting a line\n",
    "x = np.linspace(0, 10, 100)\n",
    "y = np.sin(x)\n",
    "\n",
    "plt.plot(x, y, label='sin(x)', color='blue')\n",
    "plt.title(\"Plot of sin(x)\")\n",
    "plt.xlabel(\"x\")\n",
    "plt.ylabel(\"y\")\n",
    "plt.legend()\n",
    "plt.grid(True)\n",
    "plt.show()\n"
   ]
  },
  {
   "cell_type": "code",
   "execution_count": null,
   "id": "3268320c-6591-4c36-8f53-b2d6cd16c5f4",
   "metadata": {},
   "outputs": [],
   "source": []
  },
  {
   "cell_type": "markdown",
   "id": "58a0d6ce-8969-437c-8d87-f94a0c058385",
   "metadata": {},
   "source": [
    "# 🧪 9. Mini Challenge (Optional)"
   ]
  },
  {
   "cell_type": "code",
   "execution_count": 51,
   "id": "9dbde5c3-eca2-41c0-a084-cb8f8915dd3b",
   "metadata": {},
   "outputs": [
    {
     "data": {
      "text/plain": [
       "78.53981633974483"
      ]
     },
     "execution_count": 51,
     "metadata": {},
     "output_type": "execute_result"
    }
   ],
   "source": [
    "# Mini Challenge: Write a function to calculate area of a circle\n",
    "def circle_area(radius):\n",
    "    return math.pi * radius ** 2\n",
    "\n",
    "# Try with radius = 5\n",
    "circle_area(5)\n"
   ]
  },
  {
   "cell_type": "markdown",
   "id": "9971a041-6ab6-4730-ba46-3cb4f37c7f88",
   "metadata": {},
   "source": [
    "# ✅ Summary \n",
    "\n",
    "## What Have We Learned in this session:\n",
    "- ✅ Difference between code and markdown cells\n",
    "- ✅ Basic Python operations and variables\n",
    "- ✅ Using loops, conditions, and functions\n",
    "- ✅ Plotting data using matplotlib"
   ]
  },
  {
   "cell_type": "code",
   "execution_count": null,
   "id": "2267b6bf-4b7c-4b9b-8811-2af6e24f122d",
   "metadata": {},
   "outputs": [],
   "source": []
  }
 ],
 "metadata": {
  "kernelspec": {
   "display_name": "Python [conda env:base] *",
   "language": "python",
   "name": "conda-base-py"
  },
  "language_info": {
   "codemirror_mode": {
    "name": "ipython",
    "version": 3
   },
   "file_extension": ".py",
   "mimetype": "text/x-python",
   "name": "python",
   "nbconvert_exporter": "python",
   "pygments_lexer": "ipython3",
   "version": "3.12.7"
  }
 },
 "nbformat": 4,
 "nbformat_minor": 5
}
